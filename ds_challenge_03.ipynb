{
 "cells": [
  {
   "cell_type": "code",
   "execution_count": 1,
   "metadata": {},
   "outputs": [],
   "source": [
    "import csv\n",
    "\n",
    "with open('data.csv') as f:\n",
    "    reader = csv.reader(f)\n",
    "    data = list(reader)"
   ]
  },
  {
   "cell_type": "code",
   "execution_count": 7,
   "metadata": {},
   "outputs": [
    {
     "name": "stdout",
     "output_type": "stream",
     "text": [
      "['User', '', 'AlecMorgan', 'as6140', 'ZMBailey', 'rokaandy', 'AnnaLara', 'ConnorAnderson29', 'UpwardTrajectory', '', 'AlludedCrabb', 'jnawjux', 'kayschulz', 'kevintheduu', 'Laura-ShummonMaass', 'worldyne', 'glmack', 'mandoiwanaga', 'MIAISEMAN', 'nkacoroski', 'Patrickbfuller', 'sherzyang', 'Teosoft7', 'TSGreenwood', 'angrobanGit']\n"
     ]
    }
   ],
   "source": [
    "print([x[1] for x in data])"
   ]
  }
 ],
 "metadata": {
  "kernelspec": {
   "display_name": "Python 3",
   "language": "python",
   "name": "python3"
  },
  "language_info": {
   "codemirror_mode": {
    "name": "ipython",
    "version": 3
   },
   "file_extension": ".py",
   "mimetype": "text/x-python",
   "name": "python",
   "nbconvert_exporter": "python",
   "pygments_lexer": "ipython3",
   "version": "3.6.6"
  }
 },
 "nbformat": 4,
 "nbformat_minor": 2
}
