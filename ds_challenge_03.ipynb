{
 "cells": [
  {
   "cell_type": "code",
   "execution_count": 32,
   "metadata": {},
   "outputs": [],
   "source": [
    "import csv\n",
    "\n",
    "# Creating list of lists from data\n",
    "with open('data.csv') as f:\n",
    "    reader = csv.reader(f)\n",
    "    data = list(reader)"
   ]
  },
  {
   "cell_type": "code",
   "execution_count": 33,
   "metadata": {},
   "outputs": [
    {
     "data": {
      "text/plain": [
       "[['Name', 'User', 'Links'],\n",
       " ['', '', ''],\n",
       " ['Alec Morgan',\n",
       "  'AlecMorgan',\n",
       "  'https://github.com/AlecMorgan/GitHub-Learning-Project'],\n",
       " ['Alex Shropshire', 'as6140', 'https://github.com/as6140/repotest1'],\n",
       " ['Alexander Bailey', 'ZMBailey', 'https://github.com/ZMBailey/fi_repo1']]"
      ]
     },
     "execution_count": 33,
     "metadata": {},
     "output_type": "execute_result"
    }
   ],
   "source": [
    "# Looking at data \n",
    "data[:5]"
   ]
  },
  {
   "cell_type": "code",
   "execution_count": 37,
   "metadata": {},
   "outputs": [],
   "source": [
    "# Function for getting username, based on first list being column names\n",
    "def data_extract(data, col):\n",
    "    for user in data:\n",
    "        loc = data[0].index(col)\n",
    "        if user[loc] != '':\n",
    "            print(user[loc])"
   ]
  },
  {
   "cell_type": "code",
   "execution_count": 38,
   "metadata": {},
   "outputs": [
    {
     "name": "stdout",
     "output_type": "stream",
     "text": [
      "User\n",
      "AlecMorgan\n",
      "as6140\n",
      "ZMBailey\n",
      "rokaandy\n",
      "AnnaLara\n",
      "ConnorAnderson29\n",
      "UpwardTrajectory\n",
      "AlludedCrabb\n",
      "jnawjux\n",
      "kayschulz\n",
      "kevintheduu\n",
      "Laura-ShummonMaass\n",
      "worldyne\n",
      "glmack\n",
      "mandoiwanaga\n",
      "MIAISEMAN\n",
      "nkacoroski\n",
      "Patrickbfuller\n",
      "sherzyang\n",
      "Teosoft7\n",
      "TSGreenwood\n",
      "angrobanGit\n"
     ]
    }
   ],
   "source": [
    "data_extract(data,'User')"
   ]
  }
 ],
 "metadata": {
  "kernelspec": {
   "display_name": "Python 3",
   "language": "python",
   "name": "python3"
  },
  "language_info": {
   "codemirror_mode": {
    "name": "ipython",
    "version": 3
   },
   "file_extension": ".py",
   "mimetype": "text/x-python",
   "name": "python",
   "nbconvert_exporter": "python",
   "pygments_lexer": "ipython3",
   "version": "3.7.1"
  }
 },
 "nbformat": 4,
 "nbformat_minor": 2
}
